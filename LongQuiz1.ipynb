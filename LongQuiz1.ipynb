{
  "nbformat": 4,
  "nbformat_minor": 0,
  "metadata": {
    "colab": {
      "provenance": [],
      "authorship_tag": "ABX9TyNzXOgfCZ8CpNcuM0CEubTL",
      "include_colab_link": true
    },
    "kernelspec": {
      "name": "python3",
      "display_name": "Python 3"
    },
    "language_info": {
      "name": "python"
    }
  },
  "cells": [
    {
      "cell_type": "markdown",
      "metadata": {
        "id": "view-in-github",
        "colab_type": "text"
      },
      "source": [
        "<a href=\"https://colab.research.google.com/github/PerlasKurtNiko/58010_DSAA/blob/main/LongQuiz1.ipynb\" target=\"_parent\"><img src=\"https://colab.research.google.com/assets/colab-badge.svg\" alt=\"Open In Colab\"/></a>"
      ]
    },
    {
      "cell_type": "code",
      "execution_count": 4,
      "metadata": {
        "colab": {
          "base_uri": "https://localhost:8080/"
        },
        "id": "090qDdMsJ_LY",
        "outputId": "0d2fa71f-30c1-43a7-a27e-c02b3bfbe2e8"
      },
      "outputs": [
        {
          "output_type": "stream",
          "name": "stdout",
          "text": [
            "['s', 'a', 'l', 'r', 'e', 'p', 'c', 'o', 'k', 'i', 'n', 't', 'r', 'u', 'k']\n"
          ]
        }
      ],
      "source": [
        "name = []\n",
        "name.append('k')\n",
        "name.append('u')\n",
        "name.append('r')\n",
        "name.append('t')\n",
        "name.append('n')\n",
        "name.append('i')\n",
        "name.append('k')\n",
        "name.append('o')\n",
        "name.append('c')\n",
        "name.append('p')\n",
        "name.append('e')\n",
        "name.append('r')\n",
        "name.append('l')\n",
        "name.append('a')\n",
        "name.append('s')\n",
        "\n",
        "name.reverse()\n",
        "print(name)\n"
      ]
    },
    {
      "cell_type": "code",
      "source": [
        "IntegerArray = [1,2,3,4,5,6,7,8,9,10]\n",
        "\n",
        "for x in IntegerArray:\n",
        "  if x == 1:\n",
        "    print (f'{x} is neither a prime nor a composite')\n",
        "print ('2 is a prime number')\n",
        "for x in IntegerArray:\n",
        "  if x >= 2:\n",
        "    if x !=9:\n",
        "      if x%2 == 1:\n",
        "        print (f'{x} is a prime number')\n",
        "  if x == 9:\n",
        "    print(f'{x} is a composite number')\n",
        "  if x != 2:\n",
        "    if x%2 == 0:\n",
        "      print (f'{x} is a composite number')\n"
      ],
      "metadata": {
        "colab": {
          "base_uri": "https://localhost:8080/"
        },
        "id": "k7DE18L1LFbZ",
        "outputId": "052b9180-a78b-46cb-fa1c-8ffc5f2d0b23"
      },
      "execution_count": 8,
      "outputs": [
        {
          "output_type": "stream",
          "name": "stdout",
          "text": [
            "1 is neither a prime nor a composite\n",
            "2 is a prime number\n",
            "3 is a prime number\n",
            "4 is a composite number\n",
            "5 is a prime number\n",
            "6 is a composite number\n",
            "7 is a prime number\n",
            "8 is a composite number\n",
            "9 is a composite number\n",
            "10 is a composite number\n"
          ]
        }
      ]
    }
  ]
}