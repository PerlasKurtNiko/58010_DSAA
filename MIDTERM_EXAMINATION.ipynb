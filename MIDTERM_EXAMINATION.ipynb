{
  "nbformat": 4,
  "nbformat_minor": 0,
  "metadata": {
    "colab": {
      "provenance": [],
      "authorship_tag": "ABX9TyPe/VLLePQ0gzyVEV3n6oZA",
      "include_colab_link": true
    },
    "kernelspec": {
      "name": "python3",
      "display_name": "Python 3"
    },
    "language_info": {
      "name": "python"
    }
  },
  "cells": [
    {
      "cell_type": "markdown",
      "metadata": {
        "id": "view-in-github",
        "colab_type": "text"
      },
      "source": [
        "<a href=\"https://colab.research.google.com/github/PerlasKurtNiko/58010_DSAA/blob/main/MIDTERM_EXAMINATION.ipynb\" target=\"_parent\"><img src=\"https://colab.research.google.com/assets/colab-badge.svg\" alt=\"Open In Colab\"/></a>"
      ]
    },
    {
      "cell_type": "code",
      "execution_count": null,
      "metadata": {
        "id": "p4xPl-jeO2zC"
      },
      "outputs": [],
      "source": [
        "\n",
        "class graphing:\n",
        "  def __init__(self,gdictionary=None):\n",
        "    if gdictionary is None:\n",
        "      dictionary = {}\n",
        "    self.gdictionary = gdictionary\n",
        "  def edges(self):\n",
        "        return self.findedges()\n",
        "  def getVertices(self):\n",
        "    return list(self.gdictionary.keys())\n",
        "  def findedges(self):\n",
        "    edgename = []\n",
        "    for vrtx in self.gdictionary:\n",
        "      for nxtvrtx in self.gdictionary[vrtx]:\n",
        "        if {nxtvrtx, vrtx} not in edgename:\n",
        "          edgename.append({vrtx, nxtvrtx})\n",
        "    return edgename\n",
        "graph_elements = {\"A\" : [\"B\"],\"B\" : [\"E\",\"C\",\"F\"],\"C\" : [\"E\",\"F\",\"D\",\"M\",\"I\"],\"D\" : [\"L\",\"K\"],\"E\" : [\"N\"], \"F\" : [\"I\",\"G\"], \"G\" : [\"I\",\"J\"], \"I\" : [\"K\",\"J\"], \"J\" : [\"K\"], \"K\" : [], \"L\" : [\"M\", \"P\"], \"M\" : [\"N\", \"O\", \"P\"], \"N\" : [\"O\"], \"O\" : [\"P\"], \"P\" : []}\n",
        "g = graphing(graph_elements)\n",
        "print(g.edges())\n",
        "print(g.getVertices())\n",
        "\n"
      ]
    }
  ]
}