{
  "nbformat": 4,
  "nbformat_minor": 0,
  "metadata": {
    "colab": {
      "provenance": [],
      "authorship_tag": "ABX9TyOcNINwYGfpdBMoBpLXTPMA",
      "include_colab_link": true
    },
    "kernelspec": {
      "name": "python3",
      "display_name": "Python 3"
    },
    "language_info": {
      "name": "python"
    }
  },
  "cells": [
    {
      "cell_type": "markdown",
      "metadata": {
        "id": "view-in-github",
        "colab_type": "text"
      },
      "source": [
        "<a href=\"https://colab.research.google.com/github/PerlasKurtNiko/58010_DSAA/blob/main/LinkedList.ipynb\" target=\"_parent\"><img src=\"https://colab.research.google.com/assets/colab-badge.svg\" alt=\"Open In Colab\"/></a>"
      ]
    },
    {
      "cell_type": "code",
      "execution_count": 1,
      "metadata": {
        "colab": {
          "base_uri": "https://localhost:8080/",
          "height": 35
        },
        "id": "6YoMAVsDR6af",
        "outputId": "367028d0-459e-419a-fba2-253f145f9f40"
      },
      "outputs": [
        {
          "output_type": "execute_result",
          "data": {
            "text/plain": [
              "'f'"
            ],
            "application/vnd.google.colaboratory.intrinsic+json": {
              "type": "string"
            }
          },
          "metadata": {},
          "execution_count": 1
        }
      ],
      "source": [
        "import array\n",
        "array.typecodes #get all typecodes\n",
        "a = array.array('i',[1,2,3,4,5,6]) #initializing array a\n",
        "b = array.array('f',[1,5,2,5,3,5,4,5,5,5,6,5]) #initializing array b\n",
        "a.typecode\n",
        "b.typecode"
      ]
    },
    {
      "cell_type": "markdown",
      "source": [
        "Example 2"
      ],
      "metadata": {
        "id": "4ZJEoqttS2QA"
      }
    },
    {
      "cell_type": "code",
      "source": [
        "import array\n",
        "array.typecodes #get all typecodes\n",
        "a = array.array('f',[1,2,3,4,5,6]) #initializing array a\n",
        "b = array.array('i',[1,5,2,5,3,5,4,5,5,5,6,5]) #initializing array b\n",
        "a.typecode\n",
        "b.typecode\n",
        "\n",
        "from array import array\n",
        "a = array('i',[4,5,6,7])\n",
        "a.insert(1,2)\n",
        "print(a)\n",
        "#Append for negative range\n",
        "#Out of range when range limit is exceeded"
      ],
      "metadata": {
        "colab": {
          "base_uri": "https://localhost:8080/"
        },
        "id": "ccynqwyTS7F6",
        "outputId": "5e5d305e-4d3c-45ce-b794-28fe531530ca"
      },
      "execution_count": 3,
      "outputs": [
        {
          "output_type": "stream",
          "name": "stdout",
          "text": [
            "array('i', [4, 2, 5, 6, 7])\n"
          ]
        }
      ]
    },
    {
      "cell_type": "markdown",
      "source": [
        "Linked List"
      ],
      "metadata": {
        "id": "aeXi1AJkVoZI"
      }
    },
    {
      "cell_type": "code",
      "source": [
        "from typing_extensions import dataclass_transform\n",
        "class Node:\n",
        "\n",
        "  def __init__(self, data):\n",
        "    self.data = dataclass_transform\n",
        "    self.next = None\n",
        "\n",
        "\n",
        "class LinkedList:\n",
        "  def __init__(self):\n",
        "    self.head = None\n",
        "\n",
        "if __name__ == '__main__':\n",
        "  llist = LinkedList()\n",
        "\n",
        "  llist.head = Node('a')\n",
        "  second = Node('b')\n",
        "  third = Node('c')\n",
        "\n",
        "  llist.head.next = second;\n",
        "  second.next = third\n",
        "\n",
        "#Stocks and Use? OR stocks and queues?\n",
        "\n"
      ],
      "metadata": {
        "id": "2uv3HC_1Vpho"
      },
      "execution_count": 5,
      "outputs": []
    }
  ]
}