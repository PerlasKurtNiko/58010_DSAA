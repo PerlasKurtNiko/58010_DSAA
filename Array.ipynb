{
  "nbformat": 4,
  "nbformat_minor": 0,
  "metadata": {
    "colab": {
      "provenance": [],
      "authorship_tag": "ABX9TyNLZGc4aA8PGYG0P65nGi27",
      "include_colab_link": true
    },
    "kernelspec": {
      "name": "python3",
      "display_name": "Python 3"
    },
    "language_info": {
      "name": "python"
    }
  },
  "cells": [
    {
      "cell_type": "markdown",
      "metadata": {
        "id": "view-in-github",
        "colab_type": "text"
      },
      "source": [
        "<a href=\"https://colab.research.google.com/github/PerlasKurtNiko/58010_DSAA/blob/main/Array.ipynb\" target=\"_parent\"><img src=\"https://colab.research.google.com/assets/colab-badge.svg\" alt=\"Open In Colab\"/></a>"
      ]
    },
    {
      "cell_type": "code",
      "execution_count": null,
      "metadata": {
        "id": "iZmtXQ-5uD8G"
      },
      "outputs": [],
      "source": []
    },
    {
      "cell_type": "markdown",
      "source": [
        "Accessing the Elements in the Array"
      ],
      "metadata": {
        "id": "yt4WJZCEuLxV"
      }
    },
    {
      "cell_type": "markdown",
      "source": [],
      "metadata": {
        "id": "iaMKPKPWx1oi"
      }
    },
    {
      "cell_type": "code",
      "source": [
        "foods = [\"hotdog\", 'pancit', 'sinigang', 'siomai']\n",
        "\n",
        "print(foods[1])"
      ],
      "metadata": {
        "colab": {
          "base_uri": "https://localhost:8080/"
        },
        "id": "-8bR390KuVZR",
        "outputId": "162ad138-6edd-483b-c49a-79419635d70a"
      },
      "execution_count": null,
      "outputs": [
        {
          "output_type": "stream",
          "name": "stdout",
          "text": [
            "pancit\n"
          ]
        }
      ]
    },
    {
      "cell_type": "markdown",
      "source": [
        "Modifying Elements in Array"
      ],
      "metadata": {
        "id": "XSRas1N8vGbI"
      }
    },
    {
      "cell_type": "code",
      "source": [
        "foods = [\"hotdog\", 'pancit', 'sinigang', 'siomai']\n",
        "foods[0] = 'Cancit Panton'\n",
        "print(foods)"
      ],
      "metadata": {
        "colab": {
          "base_uri": "https://localhost:8080/"
        },
        "id": "jyx-M0ujvRs0",
        "outputId": "5c6284ca-615a-4d56-e059-833c9bcdd902"
      },
      "execution_count": null,
      "outputs": [
        {
          "output_type": "stream",
          "name": "stdout",
          "text": [
            "['Cancit Panton', 'pancit', 'sinigang', 'siomai']\n"
          ]
        }
      ]
    },
    {
      "cell_type": "markdown",
      "source": [
        "Length of the Array"
      ],
      "metadata": {
        "id": "4g3FPDafwMOd"
      }
    },
    {
      "cell_type": "code",
      "source": [
        "foods = [\"hotdog\", 'pancit', 'sinigang', 'siomai']\n",
        "\n",
        "print(len(foods))"
      ],
      "metadata": {
        "colab": {
          "base_uri": "https://localhost:8080/"
        },
        "id": "mmiaw9NuwQFH",
        "outputId": "b10f9549-1619-4cee-9666-619b047720b1"
      },
      "execution_count": null,
      "outputs": [
        {
          "output_type": "stream",
          "name": "stdout",
          "text": [
            "4\n"
          ]
        }
      ]
    },
    {
      "cell_type": "markdown",
      "source": [
        "Looping in Arrays"
      ],
      "metadata": {
        "id": "ecxdHmqVwutr"
      }
    },
    {
      "cell_type": "code",
      "source": [
        "foods = [\"hotdog\", 'pancit', 'sinigang', 'siomai']\n",
        "\n",
        "for a in foods:\n",
        "  print(a)\n"
      ],
      "metadata": {
        "colab": {
          "base_uri": "https://localhost:8080/"
        },
        "id": "5MtDcPAAww5A",
        "outputId": "5c28165d-a238-46d0-e80c-a6f21ac2ab86"
      },
      "execution_count": null,
      "outputs": [
        {
          "output_type": "stream",
          "name": "stdout",
          "text": [
            "hotdog\n",
            "pancit\n",
            "sinigang\n",
            "siomai\n"
          ]
        }
      ]
    },
    {
      "cell_type": "markdown",
      "source": [
        "Adding Elements in the Array"
      ],
      "metadata": {
        "id": "4pZXUaqJxNgw"
      }
    },
    {
      "cell_type": "code",
      "source": [
        "foods = [\"hotdog\", 'pancit', 'sinigang', 'siomai']\n",
        "foods.append('itlog')\n",
        "print(foods)"
      ],
      "metadata": {
        "colab": {
          "base_uri": "https://localhost:8080/"
        },
        "id": "bhRqbAjrxRkQ",
        "outputId": "ffd42ac5-7db5-4eb0-cef3-ad2d58e30594"
      },
      "execution_count": null,
      "outputs": [
        {
          "output_type": "stream",
          "name": "stdout",
          "text": [
            "['hotdog', 'pancit', 'sinigang', 'siomai', 'itlog']\n"
          ]
        }
      ]
    },
    {
      "cell_type": "markdown",
      "source": [
        "Removing Elements in Array"
      ],
      "metadata": {
        "id": "KBDwaxETx5ay"
      }
    },
    {
      "cell_type": "code",
      "source": [
        "foods = [\"hotdog\", 'pancit', 'sinigang', 'siomai']\n",
        "foods.pop(0)\n",
        "print(foods[0])\n",
        "#Python Module"
      ],
      "metadata": {
        "colab": {
          "base_uri": "https://localhost:8080/"
        },
        "id": "AxdD9uFfx8DG",
        "outputId": "ff627f86-c737-4160-dd32-db54a4d570f8"
      },
      "execution_count": null,
      "outputs": [
        {
          "output_type": "stream",
          "name": "stdout",
          "text": [
            "pancit\n"
          ]
        }
      ]
    },
    {
      "cell_type": "code",
      "source": [
        "x = 'hatdog'\n",
        "print (x.upper())"
      ],
      "metadata": {
        "colab": {
          "base_uri": "https://localhost:8080/"
        },
        "id": "v_5fBtWrzU6r",
        "outputId": "38f83b12-7204-4e8e-fd89-39b6fa865db3"
      },
      "execution_count": null,
      "outputs": [
        {
          "output_type": "stream",
          "name": "stdout",
          "text": [
            "HATDOG\n"
          ]
        }
      ]
    },
    {
      "cell_type": "code",
      "source": [
        "foods = [\"hotdog\", 'pancit', 'sinigang', 'siomai', 'atis']\n",
        "foods.sort(reverse=True)\n",
        "print(foods)"
      ],
      "metadata": {
        "colab": {
          "base_uri": "https://localhost:8080/"
        },
        "id": "_lO0IbOg12tl",
        "outputId": "b10e7cb7-1b90-45d1-ffb2-8f9c1c049281"
      },
      "execution_count": null,
      "outputs": [
        {
          "output_type": "stream",
          "name": "stdout",
          "text": [
            "['siomai', 'sinigang', 'pancit', 'hotdog', 'atis']\n"
          ]
        }
      ]
    },
    {
      "cell_type": "code",
      "source": [
        "foods = [\"hotdog\", 'pancit', 'sinigang', 'siomai', 'atis']\n",
        "foods.sort()\n",
        "print(foods)"
      ],
      "metadata": {
        "colab": {
          "base_uri": "https://localhost:8080/"
        },
        "id": "FOhuUco93A7a",
        "outputId": "f9a19fba-a75a-4618-9539-8745afb98072"
      },
      "execution_count": null,
      "outputs": [
        {
          "output_type": "stream",
          "name": "stdout",
          "text": [
            "['atis', 'hotdog', 'pancit', 'sinigang', 'siomai']\n"
          ]
        }
      ]
    }
  ]
}