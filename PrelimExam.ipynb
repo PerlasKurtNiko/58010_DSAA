{
  "nbformat": 4,
  "nbformat_minor": 0,
  "metadata": {
    "colab": {
      "provenance": [],
      "authorship_tag": "ABX9TyPYryFIh012/OOk2xLpqip8",
      "include_colab_link": true
    },
    "kernelspec": {
      "name": "python3",
      "display_name": "Python 3"
    },
    "language_info": {
      "name": "python"
    }
  },
  "cells": [
    {
      "cell_type": "markdown",
      "metadata": {
        "id": "view-in-github",
        "colab_type": "text"
      },
      "source": [
        "<a href=\"https://colab.research.google.com/github/PerlasKurtNiko/58010_DSAA/blob/main/PrelimExam.ipynb\" target=\"_parent\"><img src=\"https://colab.research.google.com/assets/colab-badge.svg\" alt=\"Open In Colab\"/></a>"
      ]
    },
    {
      "cell_type": "code",
      "execution_count": 10,
      "metadata": {
        "colab": {
          "base_uri": "https://localhost:8080/"
        },
        "id": "ubNWGp6zS0Cf",
        "outputId": "8cad43b0-13fe-4fdc-b1c6-8fc58e1512c7"
      },
      "outputs": [
        {
          "output_type": "stream",
          "name": "stdout",
          "text": [
            "397\n",
            "[26, 49, 62, 75, 87, 98]\n"
          ]
        }
      ],
      "source": [
        "y = 0\n",
        "scores = [26, 49, 98, 87, 62, 75]\n",
        "for x in scores:\n",
        "  y+=x\n",
        "print(y)\n",
        "\n",
        "scores.sort()\n",
        "print(scores)"
      ]
    }
  ]
}