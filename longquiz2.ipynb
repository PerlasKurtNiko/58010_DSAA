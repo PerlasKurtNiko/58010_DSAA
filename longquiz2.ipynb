{
  "nbformat": 4,
  "nbformat_minor": 0,
  "metadata": {
    "colab": {
      "provenance": [],
      "authorship_tag": "ABX9TyOwfu4gNSiGz/LDQGynHe1X",
      "include_colab_link": true
    },
    "kernelspec": {
      "name": "python3",
      "display_name": "Python 3"
    },
    "language_info": {
      "name": "python"
    }
  },
  "cells": [
    {
      "cell_type": "markdown",
      "metadata": {
        "id": "view-in-github",
        "colab_type": "text"
      },
      "source": [
        "<a href=\"https://colab.research.google.com/github/PerlasKurtNiko/58010_DSAA/blob/main/longquiz2.ipynb\" target=\"_parent\"><img src=\"https://colab.research.google.com/assets/colab-badge.svg\" alt=\"Open In Colab\"/></a>"
      ]
    },
    {
      "cell_type": "code",
      "source": [
        "class graphing:\n",
        "  def __init__(self,gdictionary=None):\n",
        "    if gdictionary is None:\n",
        "      dictionary = {}\n",
        "    self.gdictionary = gdictionary\n",
        "  def edges(self):\n",
        "        return self.findedges()\n",
        "  def getVertices(self):\n",
        "    return list(self.gdictionary.keys())\n",
        "  def findedges(self):\n",
        "    edgename = []\n",
        "    for vrtx in self.gdictionary:\n",
        "      for nxtvrtx in self.gdictionary[vrtx]:\n",
        "        if {nxtvrtx, vrtx} not in edgename:\n",
        "          edgename.append({vrtx, nxtvrtx})\n",
        "    return edgename\n",
        "graph_elements = {\"E\" : [\"I\",\"J\",\"K\",\"M\"],\"F\" : [\"I\",\"J\",\"K\",\"P\"],\"H\" : [\"I\",\"J\",\"K\"],\"I\" : [\"E\",\"F\",\"H\"],\"J\" : [\"E\",\"F\",\"H\"], \"K\" : [\"E\",\"F\",\"H\"], \"M\" : [\"E\"], \"P\" : [\"F\"]}\n",
        "g = graphing(graph_elements)\n",
        "print(g.edges())\n",
        "print(g.getVertices())"
      ],
      "metadata": {
        "colab": {
          "base_uri": "https://localhost:8080/"
        },
        "id": "80m3kUPlS98J",
        "outputId": "77edded1-753f-429e-fe98-fbb5122bc1a2"
      },
      "execution_count": 37,
      "outputs": [
        {
          "output_type": "stream",
          "name": "stdout",
          "text": [
            "[{'E', 'I'}, {'J', 'E'}, {'K', 'E'}, {'M', 'E'}, {'F', 'I'}, {'F', 'J'}, {'F', 'K'}, {'F', 'P'}, {'H', 'I'}, {'J', 'H'}, {'K', 'H'}]\n",
            "['E', 'F', 'H', 'I', 'J', 'K', 'M', 'P']\n"
          ]
        }
      ]
    }
  ]
}