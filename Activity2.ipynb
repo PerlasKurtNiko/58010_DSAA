{
  "nbformat": 4,
  "nbformat_minor": 0,
  "metadata": {
    "colab": {
      "provenance": [],
      "authorship_tag": "ABX9TyMRw63HJMJNMGl6G/hXF8Ic",
      "include_colab_link": true
    },
    "kernelspec": {
      "name": "python3",
      "display_name": "Python 3"
    },
    "language_info": {
      "name": "python"
    }
  },
  "cells": [
    {
      "cell_type": "markdown",
      "metadata": {
        "id": "view-in-github",
        "colab_type": "text"
      },
      "source": [
        "<a href=\"https://colab.research.google.com/github/PerlasKurtNiko/58010_DSAA/blob/main/Activity2.ipynb\" target=\"_parent\"><img src=\"https://colab.research.google.com/assets/colab-badge.svg\" alt=\"Open In Colab\"/></a>"
      ]
    },
    {
      "cell_type": "code",
      "execution_count": null,
      "metadata": {
        "colab": {
          "base_uri": "https://localhost:8080/"
        },
        "id": "cTR9p4PsznE1",
        "outputId": "fb6b97e9-1c31-4949-f01f-08187ff314e7"
      },
      "outputs": [
        {
          "output_type": "error",
          "ename": "TypeError",
          "evalue": "ignored",
          "traceback": [
            "\u001b[0;31m---------------------------------------------------------------------------\u001b[0m",
            "\u001b[0;31mTypeError\u001b[0m                                 Traceback (most recent call last)",
            "\u001b[0;32m<ipython-input-4-695e546558d9>\u001b[0m in \u001b[0;36m<cell line: 43>\u001b[0;34m()\u001b[0m\n\u001b[1;32m     45\u001b[0m   \u001b[0mprime\u001b[0m \u001b[0;34m=\u001b[0m \u001b[0mprime\u001b[0m\u001b[0;34m.\u001b[0m\u001b[0mnext\u001b[0m\u001b[0;34m\u001b[0m\u001b[0;34m\u001b[0m\u001b[0m\n\u001b[1;32m     46\u001b[0m \u001b[0;34m\u001b[0m\u001b[0m\n\u001b[0;32m---> 47\u001b[0;31m   \u001b[0;32mif\u001b[0m \u001b[0mlistahan\u001b[0m \u001b[0;34m%\u001b[0m \u001b[0;36m2\u001b[0m \u001b[0;34m==\u001b[0m \u001b[0;36m1\u001b[0m\u001b[0;34m:\u001b[0m\u001b[0;34m\u001b[0m\u001b[0;34m\u001b[0m\u001b[0m\n\u001b[0m\u001b[1;32m     48\u001b[0m     \u001b[0mprint\u001b[0m \u001b[0;34m(\u001b[0m\u001b[0mv\u001b[0m\u001b[0;34m)\u001b[0m\u001b[0;34m\u001b[0m\u001b[0;34m\u001b[0m\u001b[0m\n",
            "\u001b[0;31mTypeError\u001b[0m: unsupported operand type(s) for %: 'list' and 'int'"
          ]
        }
      ],
      "source": [
        "class Node:\n",
        "  def __init__(self, key):\n",
        "    self.key = key\n",
        "    self.next = None\n",
        "\n",
        "class LinkedListahan:\n",
        "  def __init__(self):\n",
        "    self.head = None\n",
        "\n",
        "  def push(self, keykey):\n",
        "    next_node = Node(keykey)\n",
        "    next_node.next = self.head\n",
        "    self.head = next_node\n",
        "\n",
        "llist = LinkedListahan()\n",
        "\n",
        "llist.push(0)\n",
        "llist.push(1)\n",
        "llist.push(2)\n",
        "llist.push(3)\n",
        "llist.push(4)\n",
        "llist.push(5)\n",
        "llist.push(6)\n",
        "llist.push(7)\n",
        "llist.push(8)\n",
        "llist.push(9)\n",
        "llist.push(10)\n",
        "llist.push(11)\n",
        "llist.push(12)\n",
        "llist.push(13)\n",
        "llist.push(14)\n",
        "llist.push(15)\n",
        "llist.push(16)\n",
        "llist.push(17)\n",
        "llist.push(18)\n",
        "llist.push(19)\n",
        "llist.push(20)\n",
        "\n",
        "prime = llist.head\n",
        "\n",
        "listahan = []\n",
        "\n",
        "while (prime):\n",
        "  listahan.append(prime.key)\n",
        "  prime = prime.next\n",
        "\n",
        "  if listahan % 2 == 1:\n",
        "    print (v)\n"
      ]
    },
    {
      "cell_type": "code",
      "source": [
        "class Node:\n",
        "  def __init__(self, key):\n",
        "    self.key = key\n",
        "    self.next = None\n",
        "\n",
        "class LinkedListahan:\n",
        "  def __init__(self):\n",
        "    self.head = None\n",
        "\n",
        "  def push(self, keykey):\n",
        "    next_node = Node(keykey)\n",
        "    next_node.next = self.head\n",
        "    self.head = next_node\n",
        "\n",
        "llist = LinkedListahan()\n",
        "\n",
        "\n",
        "llist.push(2)\n",
        "llist.push(3)\n",
        "llist.push(4)\n",
        "llist.push(5)\n",
        "llist.push(6)\n",
        "llist.push(7)\n",
        "llist.push(8)\n",
        "llist.push(9)\n",
        "llist.push(10)\n",
        "llist.push(11)\n",
        "llist.push(12)\n",
        "llist.push(13)\n",
        "llist.push(14)\n",
        "llist.push(15)\n",
        "llist.push(16)\n",
        "llist.push(17)\n",
        "llist.push(18)\n",
        "llist.push(19)\n",
        "llist.push(20)\n",
        "\n",
        "prime = llist.head\n",
        "\n",
        "listahan = []\n",
        "\n",
        "while (prime):\n",
        "  listahan.append(prime.key)\n",
        "  prime = prime.next\n",
        "\n",
        "for x in listahan:\n",
        "  if x % 2 == 1:\n",
        "    print (x)\n"
      ],
      "metadata": {
        "colab": {
          "base_uri": "https://localhost:8080/"
        },
        "id": "1ouk2xyv6ms0",
        "outputId": "9f260e55-33ef-4a0e-ec6c-10cfeee8060a"
      },
      "execution_count": 11,
      "outputs": [
        {
          "output_type": "stream",
          "name": "stdout",
          "text": [
            "19\n",
            "17\n",
            "15\n",
            "13\n",
            "11\n",
            "9\n",
            "7\n",
            "5\n",
            "3\n"
          ]
        }
      ]
    }
  ]
}