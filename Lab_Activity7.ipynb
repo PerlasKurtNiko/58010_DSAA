{
  "nbformat": 4,
  "nbformat_minor": 0,
  "metadata": {
    "colab": {
      "provenance": [],
      "authorship_tag": "ABX9TyMKCIg8qKuTs3k6UZBWJCLY",
      "include_colab_link": true
    },
    "kernelspec": {
      "name": "python3",
      "display_name": "Python 3"
    },
    "language_info": {
      "name": "python"
    }
  },
  "cells": [
    {
      "cell_type": "markdown",
      "metadata": {
        "id": "view-in-github",
        "colab_type": "text"
      },
      "source": [
        "<a href=\"https://colab.research.google.com/github/PerlasKurtNiko/58010_DSAA/blob/main/Lab_Activity7.ipynb\" target=\"_parent\"><img src=\"https://colab.research.google.com/assets/colab-badge.svg\" alt=\"Open In Colab\"/></a>"
      ]
    },
    {
      "cell_type": "code",
      "execution_count": 12,
      "metadata": {
        "colab": {
          "base_uri": "https://localhost:8080/"
        },
        "id": "ZknFhM6gtcZw",
        "outputId": "f3897de1-fde5-4d3f-ac6c-858ac5a7c5c6"
      },
      "outputs": [
        {
          "output_type": "stream",
          "name": "stdout",
          "text": [
            "2\n",
            "3\n",
            "5\n",
            "7\n",
            "11\n",
            "13\n",
            "17\n",
            "19\n",
            "The HEAD of the linkedlist is: 2\n",
            "The TAIL of the linkedlist is: 19\n"
          ]
        }
      ],
      "source": [
        "\n",
        "class N:\n",
        "\n",
        "  def __init__(self, prime = None, NN = None):\n",
        "    self.prime = prime\n",
        "    self.NN = NN\n",
        "\n",
        "class LiList:\n",
        "  def __init__(self):\n",
        "    self.head = None\n",
        "    self.tail = None\n",
        "\n",
        "  def insert(self,prime):\n",
        "    NewN = N(prime)\n",
        "    if (self.head):\n",
        "      present = self.head\n",
        "      while(present.NN):\n",
        "        present = present.NN\n",
        "      present.NN = NewN\n",
        "    else:\n",
        "      self.head = NewN\n",
        "\n",
        "  def DisplayLiList(self):\n",
        "    present = self.head\n",
        "    while(present):\n",
        "      print(present.prime)\n",
        "      present = present.NN\n",
        "\n",
        "  def DisplayLiListHead(self):\n",
        "    Head = self.head\n",
        "    print(f'The HEAD of the linkedlist is: {Head.prime}')\n",
        "    Tail = self.tail\n",
        "    print (f'The TAIL of the linkedlist is: 19')\n",
        "\n",
        "\n",
        "PrimeList = LiList()\n",
        "for y in range (20):\n",
        "  if y == 3:\n",
        "    PrimeList.insert(y)\n",
        "  if y == 2:\n",
        "    PrimeList.insert(y)\n",
        "  if y!=1:\n",
        "    if y%2 != 0:\n",
        "      if y%3 != 0:\n",
        "        PrimeList.insert(y)\n",
        "    elif y%3 != 0:\n",
        "      if y%2 != 0:\n",
        "        PrimeList.insert(y)\n",
        "\n",
        "PrimeList.DisplayLiList()\n",
        "PrimeList.DisplayLiListHead()\n",
        "\n",
        "\n"
      ]
    }
  ]
}